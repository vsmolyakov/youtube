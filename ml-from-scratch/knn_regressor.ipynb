{
 "cells": [
  {
   "cell_type": "markdown",
   "metadata": {},
   "source": [
    "## K Nearest Neighbors (KNN)"
   ]
  },
  {
   "cell_type": "markdown",
   "metadata": {},
   "source": [
    "Goal: given a query data point $q$, find $k$ nearest neighbors in the training set to the query point. We can define the K nearest neighborhood to the query point as $N_K(q, D)$, where $D$ is the training dataset."
   ]
  },
  {
   "cell_type": "markdown",
   "metadata": {},
   "source": [
    "For KNN classifier, we take the majority vote of the K nearest neighbors to determine the output label: $y_q = \\mathrm{majority\\_vote}\\{y_i\\},~\\mathrm{where}~i \\in N_K(q,D)$"
   ]
  },
  {
   "cell_type": "markdown",
   "metadata": {},
   "source": [
    "For KNN regressor, we take the average of the K nearest neighbors to determine the output value: $y_q = \\frac{1}{K}\\sum_{i \\in N_K(q,D)} y_i$\n"
   ]
  },
  {
   "cell_type": "markdown",
   "metadata": {},
   "source": [
    "Let's look at the python implementation!"
   ]
  },
  {
   "cell_type": "code",
   "execution_count": 1,
   "metadata": {},
   "outputs": [],
   "source": [
    "import numpy as np\n",
    "import matplotlib.pyplot as plt\n",
    "\n",
    "np.random.seed(42)"
   ]
  },
  {
   "cell_type": "code",
   "execution_count": 2,
   "metadata": {},
   "outputs": [],
   "source": [
    "class KNN():\n",
    "    \n",
    "    def __init__(self, K):\n",
    "        self.K = K\n",
    "\n",
    "    def euclidean_distance(self, x1, x2):\n",
    "        dist = 0\n",
    "        for i in range(len(x1)):\n",
    "            dist += np.power((x1[i] - x2[i]), 2)\n",
    "        return np.sqrt(dist)\n",
    "    \n",
    "    def knn_search(self, X_train, y_train, Q):\n",
    "        y_pred = np.empty(Q.shape[0])        \n",
    "\n",
    "        for i, query in enumerate(Q):\n",
    "            #get K nearest neighbors to query point\n",
    "            idx = np.argsort([self.euclidean_distance(query, x) for x in X_train])[:self.K]            \n",
    "            #extract the labels of KNN training labels\n",
    "            knn_labels = np.array([y_train[i] for i in idx])\n",
    "            #label query sample as the average of knn_labels\n",
    "            y_pred[i] = np.mean(knn_labels)\n",
    "\n",
    "        return y_pred \n"
   ]
  },
  {
   "cell_type": "code",
   "execution_count": 3,
   "metadata": {},
   "outputs": [
    {
     "data": {
      "image/png": "[encoded data removed]",
      "text/plain": [
       "<Figure size 432x288 with 1 Axes>"
      ]
     },
     "metadata": {
      "needs_background": "light"
     },
     "output_type": "display_data"
    }
   ],
   "source": [
    "X = np.sort(5 * np.random.rand(40, 1), axis=0)\n",
    "y = np.sin(X).ravel()\n",
    "y += 0.1*np.random.randn(len(y)) #add noise\n",
    "T = np.linspace(0, 5, 500)[:, np.newaxis]\n",
    "\n",
    "K = 8\n",
    "knn = KNN(K)    \n",
    "y_pred = knn.knn_search(X, y, T)\n",
    "\n",
    "plt.figure()\n",
    "plt.scatter(X, y, color=\"darkorange\", label=\"data\")\n",
    "plt.plot(T, y_pred, color=\"navy\", label=\"prediction\")\n",
    "plt.axis(\"tight\")\n",
    "plt.legend()\n",
    "plt.title('K Nearest Neighbors (K=%d)'% K)\n",
    "plt.grid(True)\n",
    "plt.show()"
   ]
  },
  {
   "cell_type": "markdown",
   "metadata": {},
   "source": [
    "In the figure above, the output of KNN regressor is the average of K labels that are closest to the query point(s)."
   ]
  }
 ],
 "metadata": {
  "kernelspec": {
   "display_name": "Python 3",
   "language": "python",
   "name": "python3"
  },
  "language_info": {
   "codemirror_mode": {
    "name": "ipython",
    "version": 3
   },
   "file_extension": ".py",
   "mimetype": "text/x-python",
   "name": "python",
   "nbconvert_exporter": "python",
   "pygments_lexer": "ipython3",
   "version": "3.7.0"
  }
 },
 "nbformat": 4,
 "nbformat_minor": 1
}
